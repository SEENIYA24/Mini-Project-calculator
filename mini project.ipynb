{
 "cells": [
  {
   "cell_type": "code",
   "execution_count": null,
   "id": "e6e7a92e-ff75-4514-a4e3-702d76719c74",
   "metadata": {},
   "outputs": [],
   "source": [
    "#mini project\n",
    "#Design and implement a simple command-line calculator application in Python, utilizing functions to perform basic arithmetic operations. The primary objective is to create an interactive and user-friendly calculator that allows users to perform:\n",
    "1.addition \n",
    "2.subtraction \n",
    "3.Multiplication \n",
    "4.division  on two input numbers. "
   ]
  },
  {
   "cell_type": "code",
   "execution_count": 1,
   "id": "dd8b8f18-fd42-47fa-961a-1310701bc5fa",
   "metadata": {},
   "outputs": [
    {
     "name": "stdout",
     "output_type": "stream",
     "text": [
      "Simple Command-Line Calculator\n",
      "--------------------------------\n",
      "\n",
      "Operations:\n",
      "1. Addition\n",
      "2. Subtraction\n",
      "3. Multiplication\n",
      "4. Division\n",
      "5. Quit\n"
     ]
    },
    {
     "name": "stdin",
     "output_type": "stream",
     "text": [
      "Choose an operation (1-5):  1\n",
      "Enter the first number:  10\n",
      "Enter the second number:  10\n"
     ]
    },
    {
     "name": "stdout",
     "output_type": "stream",
     "text": [
      "10.0 + 10.0 = 20.0\n",
      "\n",
      "Operations:\n",
      "1. Addition\n",
      "2. Subtraction\n",
      "3. Multiplication\n",
      "4. Division\n",
      "5. Quit\n"
     ]
    },
    {
     "name": "stdin",
     "output_type": "stream",
     "text": [
      "Choose an operation (1-5):  2\n",
      "Enter the first number:  100\n",
      "Enter the second number:  20\n"
     ]
    },
    {
     "name": "stdout",
     "output_type": "stream",
     "text": [
      "100.0 - 20.0 = 80.0\n",
      "\n",
      "Operations:\n",
      "1. Addition\n",
      "2. Subtraction\n",
      "3. Multiplication\n",
      "4. Division\n",
      "5. Quit\n"
     ]
    },
    {
     "name": "stdin",
     "output_type": "stream",
     "text": [
      "Choose an operation (1-5):  3\n",
      "Enter the first number:  100\n",
      "Enter the second number:  2\n"
     ]
    },
    {
     "name": "stdout",
     "output_type": "stream",
     "text": [
      "100.0 * 2.0 = 200.0\n",
      "\n",
      "Operations:\n",
      "1. Addition\n",
      "2. Subtraction\n",
      "3. Multiplication\n",
      "4. Division\n",
      "5. Quit\n"
     ]
    },
    {
     "name": "stdin",
     "output_type": "stream",
     "text": [
      "Choose an operation (1-5):  1000\n"
     ]
    },
    {
     "name": "stdout",
     "output_type": "stream",
     "text": [
      "Invalid choice. Please choose again.\n",
      "\n",
      "Operations:\n",
      "1. Addition\n",
      "2. Subtraction\n",
      "3. Multiplication\n",
      "4. Division\n",
      "5. Quit\n"
     ]
    },
    {
     "name": "stdin",
     "output_type": "stream",
     "text": [
      "Choose an operation (1-5):  2\n",
      "Enter the first number:  1\n",
      "Enter the second number:  1\n"
     ]
    },
    {
     "name": "stdout",
     "output_type": "stream",
     "text": [
      "1.0 - 1.0 = 0.0\n",
      "\n",
      "Operations:\n",
      "1. Addition\n",
      "2. Subtraction\n",
      "3. Multiplication\n",
      "4. Division\n",
      "5. Quit\n"
     ]
    },
    {
     "name": "stdin",
     "output_type": "stream",
     "text": [
      "Choose an operation (1-5):  4\n",
      "Enter the first number:  1000\n",
      "Enter the second number:  2\n"
     ]
    },
    {
     "name": "stdout",
     "output_type": "stream",
     "text": [
      "1000.0 / 2.0 = 500.0\n",
      "\n",
      "Operations:\n",
      "1. Addition\n",
      "2. Subtraction\n",
      "3. Multiplication\n",
      "4. Division\n",
      "5. Quit\n"
     ]
    },
    {
     "name": "stdin",
     "output_type": "stream",
     "text": [
      "Choose an operation (1-5):  5\n"
     ]
    },
    {
     "name": "stdout",
     "output_type": "stream",
     "text": [
      "Exiting calculator. Goodbye!\n"
     ]
    }
   ],
   "source": [
    "\n",
    "# calculator.py\n",
    "\n",
    "def add(num1, num2):\n",
    "    \"\"\"Return the sum of two numbers.\"\"\"\n",
    "    return num1 + num2\n",
    "\n",
    "\n",
    "def subtract(num1, num2):\n",
    "    \"\"\"Return the difference of two numbers.\"\"\"\n",
    "    return num1 - num2\n",
    "\n",
    "\n",
    "def multiply(num1, num2):\n",
    "    \"\"\"Return the product of two numbers.\"\"\"\n",
    "    return num1 * num2\n",
    "\n",
    "\n",
    "def divide(num1, num2):\n",
    "    \"\"\"Return the quotient of two numbers.\"\"\"\n",
    "    if num2 == 0:\n",
    "        raise ValueError(\"Cannot divide by zero.\")\n",
    "    return num1 / num2\n",
    "\n",
    "\n",
    "def main():\n",
    "    \"\"\"Run the calculator application.\"\"\"\n",
    "    print(\"Simple Command-Line Calculator\")\n",
    "    print(\"--------------------------------\")\n",
    "\n",
    "    while True:\n",
    "        print(\"\\nOperations:\")\n",
    "        print(\"1. Addition\")\n",
    "        print(\"2. Subtraction\")\n",
    "        print(\"3. Multiplication\")\n",
    "        print(\"4. Division\")\n",
    "        print(\"5. Quit\")\n",
    "\n",
    "        choice = input(\"Choose an operation (1-5): \")\n",
    "\n",
    "        if choice == \"5\":\n",
    "            print(\"Exiting calculator. Goodbye!\")\n",
    "            break\n",
    "\n",
    "        elif choice not in [\"1\", \"2\", \"3\", \"4\"]:\n",
    "            print(\"Invalid choice. Please choose again.\")\n",
    "            continue\n",
    "\n",
    "        try:\n",
    "            num1 = float(input(\"Enter the first number: \"))\n",
    "            num2 = float(input(\"Enter the second number: \"))\n",
    "\n",
    "            if choice == \"1\":\n",
    "                result = add(num1, num2)\n",
    "                print(f\"{num1} + {num2} = {result}\")\n",
    "\n",
    "            elif choice == \"2\":\n",
    "                result = subtract(num1, num2)\n",
    "                print(f\"{num1} - {num2} = {result}\")\n",
    "\n",
    "            elif choice == \"3\":\n",
    "                result = multiply(num1, num2)\n",
    "                print(f\"{num1} * {num2} = {result}\")\n",
    "\n",
    "            elif choice == \"4\":\n",
    "                result = divide(num1, num2)\n",
    "                print(f\"{num1} / {num2} = {result}\")\n",
    "\n",
    "        except ValueError as e:\n",
    "            print(f\"Error: {e}\")\n",
    "\n",
    "\n",
    "if __name__ == \"__main__\":\n",
    "    main()"
   ]
  },
  {
   "cell_type": "code",
   "execution_count": null,
   "id": "18aeb821-f3c7-4a2d-a5e5-87cfd12214f5",
   "metadata": {},
   "outputs": [],
   "source": []
  }
 ],
 "metadata": {
  "kernelspec": {
   "display_name": "Python 3 (ipykernel)",
   "language": "python",
   "name": "python3"
  },
  "language_info": {
   "codemirror_mode": {
    "name": "ipython",
    "version": 3
   },
   "file_extension": ".py",
   "mimetype": "text/x-python",
   "name": "python",
   "nbconvert_exporter": "python",
   "pygments_lexer": "ipython3",
   "version": "3.12.4"
  }
 },
 "nbformat": 4,
 "nbformat_minor": 5
}
